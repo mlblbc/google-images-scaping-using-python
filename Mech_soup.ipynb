{
 "cells": [
  {
   "cell_type": "code",
   "execution_count": 1,
   "metadata": {},
   "outputs": [],
   "source": [
    "#Import MECHANICALSOUP\n",
    "\n",
    "import mechanicalsoup as soup"
   ]
  },
  {
   "cell_type": "code",
   "execution_count": 2,
   "metadata": {},
   "outputs": [
    {
     "name": "stdout",
     "output_type": "stream",
     "text": [
      "Done...\n",
      "https://images.google.com/?hl=en\n"
     ]
    }
   ],
   "source": [
    "#CREATE BROWSER\n",
    "browser = soup.StatefulBrowser()\n",
    "\n",
    "#GET THE GOOGLE IMAGES URL\n",
    "url = 'https://images.google.com/?hl=en'\n",
    "\n",
    "#OPEN THE URL\n",
    "browser.open(url)\n",
    "\n",
    "print('Done...')\n",
    "print(browser.get_url())"
   ]
  },
  {
   "cell_type": "code",
   "execution_count": 3,
   "metadata": {},
   "outputs": [
    {
     "data": {
      "text/plain": [
       "<mechanicalsoup.form.Form at 0x6d104f0>"
      ]
     },
     "execution_count": 3,
     "metadata": {},
     "output_type": "execute_result"
    }
   ],
   "source": [
    "#GET HTML OF THE CURRENT PAGE\n",
    "browser.get_current_page()\n",
    "\n",
    "#SELECT INPUT FIELDS OF THE PAGE\n",
    "browser.select_form()\n",
    "#browser.get_current_form().print_summary()\n",
    "\n"
   ]
  },
  {
   "cell_type": "code",
   "execution_count": 4,
   "metadata": {},
   "outputs": [
    {
     "name": "stdout",
     "output_type": "stream",
     "text": [
      "NEW URL :  https://www.google.com/search?tbm=isch&ie=ISO-8859-1&hl=en-EG&source=hp&biw=&bih=&q=mouse&btnG=Search+Images&gbv=1\n"
     ]
    }
   ],
   "source": [
    "#SEARCH\n",
    "search_term = 'mouse'\n",
    "\n",
    "browser['q'] = search_term\n",
    "\n",
    "response = browser.submit_selected()\n",
    "\n",
    "print('NEW URL : ', browser.get_url())"
   ]
  },
  {
   "cell_type": "code",
   "execution_count": 5,
   "metadata": {},
   "outputs": [],
   "source": [
    "#new_url = browser.get_url()\n",
    "\n",
    "page = browser.get_current_page()\n",
    "\n",
    "images = page.find_all('img')\n",
    "\n",
    "#SELECT IMAGES SOURCES\n",
    "im_source = []\n",
    "for image in images:\n",
    "    image = image.get('src')\n",
    "    im_source.append(image)"
   ]
  },
  {
   "cell_type": "code",
   "execution_count": 6,
   "metadata": {},
   "outputs": [],
   "source": [
    "#REMOVE INCOMPLETE LINKS\n",
    "im_source = [image for image in im_source if image.startswith('https')]"
   ]
  },
  {
   "cell_type": "code",
   "execution_count": 7,
   "metadata": {},
   "outputs": [
    {
     "ename": "FileExistsError",
     "evalue": "[WinError 183] Cannot create a file when that file already exists: 'D:\\\\programming\\\\python\\\\Mechanical_soup\\\\mouses'",
     "output_type": "error",
     "traceback": [
      "\u001b[1;31m---------------------------------------------------------------------------\u001b[0m",
      "\u001b[1;31mFileExistsError\u001b[0m                           Traceback (most recent call last)",
      "\u001b[1;32m<ipython-input-7-1aa1eb246e7e>\u001b[0m in \u001b[0;36m<module>\u001b[1;34m\u001b[0m\n\u001b[0;32m      5\u001b[0m \u001b[0mpath\u001b[0m \u001b[1;33m=\u001b[0m \u001b[0mos\u001b[0m\u001b[1;33m.\u001b[0m\u001b[0mpath\u001b[0m\u001b[1;33m.\u001b[0m\u001b[0mjoin\u001b[0m\u001b[1;33m(\u001b[0m\u001b[0mpath\u001b[0m\u001b[1;33m,\u001b[0m\u001b[0msearch_term\u001b[0m\u001b[1;33m+\u001b[0m\u001b[1;34m's'\u001b[0m\u001b[1;33m)\u001b[0m\u001b[1;33m\u001b[0m\u001b[1;33m\u001b[0m\u001b[0m\n\u001b[0;32m      6\u001b[0m \u001b[1;33m\u001b[0m\u001b[0m\n\u001b[1;32m----> 7\u001b[1;33m \u001b[0mos\u001b[0m\u001b[1;33m.\u001b[0m\u001b[0mmkdir\u001b[0m\u001b[1;33m(\u001b[0m\u001b[0mpath\u001b[0m\u001b[1;33m)\u001b[0m\u001b[1;33m\u001b[0m\u001b[1;33m\u001b[0m\u001b[0m\n\u001b[0m",
      "\u001b[1;31mFileExistsError\u001b[0m: [WinError 183] Cannot create a file when that file already exists: 'D:\\\\programming\\\\python\\\\Mechanical_soup\\\\mouses'"
     ]
    }
   ],
   "source": [
    "import os\n",
    "import wget\n",
    "\n",
    "path = os.getcwd()\n",
    "path = os.path.join(path,search_term+'s')\n",
    "\n",
    "os.mkdir(path)"
   ]
  },
  {
   "cell_type": "code",
   "execution_count": null,
   "metadata": {},
   "outputs": [],
   "source": [
    "#DOWNLOAD IMAGES\n",
    "\n",
    "count = 0\n",
    "for image in im_source:\n",
    "    save_as = os.path.join(path,search_term + str(count) + '.jpg')\n",
    "    wget.download(image,save_as)\n",
    "    count += 1"
   ]
  },
  {
   "cell_type": "code",
   "execution_count": null,
   "metadata": {},
   "outputs": [],
   "source": []
  }
 ],
 "metadata": {
  "kernelspec": {
   "display_name": "Python 3",
   "language": "python",
   "name": "python3"
  },
  "language_info": {
   "codemirror_mode": {
    "name": "ipython",
    "version": 3
   },
   "file_extension": ".py",
   "mimetype": "text/x-python",
   "name": "python",
   "nbconvert_exporter": "python",
   "pygments_lexer": "ipython3",
   "version": "3.8.0"
  }
 },
 "nbformat": 4,
 "nbformat_minor": 4
}
